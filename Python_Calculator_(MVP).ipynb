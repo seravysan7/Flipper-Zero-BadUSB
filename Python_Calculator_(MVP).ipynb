{
  "cells": [
    {
      "cell_type": "markdown",
      "metadata": {
        "id": "view-in-github",
        "colab_type": "text"
      },
      "source": [
        "<a href=\"https://colab.research.google.com/github/seravysan7/Flipper-Zero-BadUSB/blob/main/Python_Calculator_(MVP).ipynb\" target=\"_parent\"><img src=\"https://colab.research.google.com/assets/colab-badge.svg\" alt=\"Open In Colab\"/></a>"
      ]
    },
    {
      "cell_type": "code",
      "source": [
        "# --- Core Calculator Logic ---\n",
        "\n",
        "def calculate(num1, num2, operator):\n",
        "    \"\"\"\n",
        "    Performs the calculation based on the operator.\n",
        "    Handles addition, subtraction, multiplication, and division.\n",
        "    Includes a specific check for division by zero.\n",
        "    \"\"\"\n",
        "    if operator == '+':\n",
        "        return num1 + num2\n",
        "    elif operator == '-':\n",
        "        return num1 - num2\n",
        "    elif operator == '*':\n",
        "        return num1 * num2\n",
        "    elif operator == '/':\n",
        "        # Handle the division by zero error case\n",
        "        if num2 == 0:\n",
        "            return \"Error: Division by zero is not allowed.\"\n",
        "        return num1 / num2\n",
        "    else:\n",
        "        # Handle cases where an invalid operator is used\n",
        "        return \"Error: Invalid operator.\"\n",
        "\n",
        "# --- Main Program Execution ---\n",
        "\n",
        "def simple_calculator():\n",
        "    \"\"\"\n",
        "    This function serves as the main entry point for the calculator.\n",
        "    It handles user input and error checking.\n",
        "    \"\"\"\n",
        "    print(\"--- Simple Python Calculator ---\")\n",
        "    try:\n",
        "        # 1. Take user input for two numbers.\n",
        "        # The float() function converts the input string to a floating-point number.\n",
        "        num1 = float(input(\"Enter the first number: \"))\n",
        "\n",
        "        # 2. Take user input for the operator.\n",
        "        operator = input(\"Enter an operator (+, -, *, /): \")\n",
        "\n",
        "        num2 = float(input(\"Enter the second number: \"))\n",
        "\n",
        "        # 3. Perform the calculation by calling the calculate function.\n",
        "        result = calculate(num1, num2, operator)\n",
        "\n",
        "        # Display the result to the user.\n",
        "        print(f\"Result: {num1} {operator} {num2} = {result}\")\n",
        "\n",
        "    # 4. Handle errors like invalid input.\n",
        "    except ValueError:\n",
        "        # This block runs if the user enters text that cannot be converted to a number.\n",
        "        print(\"Error: Invalid input. Please enter numeric values for numbers.\")\n",
        "    except Exception as e:\n",
        "        # A general catch-all for any other unexpected errors.\n",
        "        print(f\"An unexpected error occurred: {e}\")\n",
        "\n",
        "# --- Run the Calculator ---\n",
        "# The if __name__ == \"__main__\": block ensures this code runs only when the script is executed directly."
      ],
      "outputs": [],
      "execution_count": 1,
      "metadata": {
        "id": "XcQIyzXEDNmi"
      }
    }
  ],
  "metadata": {
    "colab": {
      "provenance": [],
      "include_colab_link": true
    },
    "kernelspec": {
      "display_name": "Python 3",
      "name": "python3"
    }
  },
  "nbformat": 4,
  "nbformat_minor": 0
}